{
 "cells": [
  {
   "cell_type": "markdown",
   "id": "3bdc0da4-14eb-4317-ac15-b7700087e0ed",
   "metadata": {},
   "source": [
    "# Prerequisite solutions\n",
    "Solutions to 25 questions of python basics"
   ]
  },
  {
   "cell_type": "code",
   "execution_count": 1,
   "id": "224afc9c-18c1-4423-a3c4-ca5764230934",
   "metadata": {},
   "outputs": [
    {
     "name": "stdout",
     "output_type": "stream",
     "text": [
      "First 20 natural numbers: [1, 2, 3, 4, 5, 6, 7, 8, 9, 10, 11, 12, 13, 14, 15, 16, 17, 18, 19, 20]\n"
     ]
    }
   ],
   "source": [
    "# Create a list of the first 20 natural numbers\n",
    "\n",
    "natural_numbers = list(range(1, 21))\n",
    "print(\"First 20 natural numbers:\", natural_numbers)"
   ]
  },
  {
   "cell_type": "code",
   "execution_count": 2,
   "id": "dec50396-2479-40e2-aea4-bc0f4d8f3675",
   "metadata": {},
   "outputs": [
    {
     "name": "stdout",
     "output_type": "stream",
     "text": [
      "Sum of all even numbers: 110\n"
     ]
    }
   ],
   "source": [
    "\n",
    "# Compute the sum of all even numbers in the list\n",
    "\n",
    "even_numbers = [num for num in natural_numbers if num % 2 == 0]\n",
    "sum_even = sum(even_numbers)\n",
    "print(\"Sum of all even numbers:\", sum_even)"
   ]
  },
  {
   "cell_type": "code",
   "execution_count": 3,
   "id": "447500a6-60e8-4c6f-902d-c145d63bebb6",
   "metadata": {},
   "outputs": [
    {
     "name": "stdout",
     "output_type": "stream",
     "text": [
      "Product of all odd numbers: 654729075\n"
     ]
    }
   ],
   "source": [
    "\n",
    "# Compute the product of all odd numbers in the list\n",
    "\n",
    "odd_numbers = [num for num in natural_numbers if num % 2 != 0]\n",
    "product_odd = 1\n",
    "for num in odd_numbers:\n",
    "    product_odd *= num\n",
    "print(\"Product of all odd numbers:\", product_odd)"
   ]
  },
  {
   "cell_type": "code",
   "execution_count": 4,
   "id": "130a0f48-181a-43b6-8949-9d0960c0d816",
   "metadata": {},
   "outputs": [
    {
     "name": "stdout",
     "output_type": "stream",
     "text": [
      "Mean: 10.5\n",
      "Median: 10.5\n",
      "Standard Deviation: 5.916079783099616\n"
     ]
    }
   ],
   "source": [
    "# Calculate mean, median, standard deviation\n",
    "\n",
    "mean = sum(natural_numbers) / len(natural_numbers)\n",
    "\n",
    "sorted_numbers = sorted(natural_numbers)\n",
    "mid_index = len(sorted_numbers) // 2\n",
    "\n",
    "if len(sorted_numbers) % 2 == 0:\n",
    "    median = (sorted_numbers[mid_index - 1] + sorted_numbers[mid_index]) / 2\n",
    "else:\n",
    "    median = sorted_numbers[mid_index]\n",
    "\n",
    "mean_diff_squared = [(x - mean) ** 2 for x in natural_numbers]\n",
    "variance = sum(mean_diff_squared) / (len(natural_numbers) - 1)\n",
    "std_dev = variance ** 0.5\n",
    "\n",
    "print(\"Mean:\", mean)\n",
    "print(\"Median:\", median)\n",
    "print(\"Standard Deviation:\", std_dev)"
   ]
  },
  {
   "cell_type": "code",
   "execution_count": 6,
   "id": "00a224e5-1cdb-4d37-b287-dbaab4ceb5d6",
   "metadata": {},
   "outputs": [
    {
     "name": "stdout",
     "output_type": "stream",
     "text": [
      "Original value of x: 10\n",
      "Modified value of x: 15\n",
      "Original list: [1, 2, 3]\n",
      "Modified list: [99, 2, 3]\n"
     ]
    }
   ],
   "source": [
    "\n",
    "# Immutable data types cannot be changed after creation.\n",
    "# If you attempt to modify an immutable object, Python creates a new object with the modified value.\n",
    "\n",
    "# Immutable Data Type - int\n",
    "x = 10\n",
    "print(f\"Original value of x: {x}\")\n",
    "x = 15\n",
    "print(f\"Modified value of x: {x}\")\n",
    "      \n",
    "# In the above example, 'x' was initially assigned the value 10.When we reassign 'x' to 15, Python creates a new integer object and assigns it to 'x'.The original object with value 10 is not modified; instead, a new object is created.\n",
    "\n",
    "# Mutable data types can be changed after they are created. You can modify the object directly without creating a new one.\n",
    "\n",
    "# Mutable Data Type - list\n",
    "my_list = [1, 2, 3]\n",
    "print(f\"Original list: {my_list}\")\n",
    "my_list[0] = 99\n",
    "print(f\"Modified list: {my_list}\")\n",
    "\n",
    "# Here, 'my_list' is a list, which is mutable.We modified the first element of the list in place by changing the value from 1 to 99.The list was not replaced by a new object; instead, the existing list was directly modified.\n",
    "\n",
    "# Explanation of Mutable vs Immutable Data Types\n",
    "\n",
    "# Immutable Data Types (Examples: int, str, tuple):\n",
    "# - Their values cannot be changed after creation.\n",
    "# - When you modify an immutable object, Python creates a new object with the new value.\n",
    "# - Example: In the case of an integer, modifying its value creates a new integer object.\n",
    "# - Other immutable types include strings (str), tuples (tuple).\n",
    "\n",
    "# Mutable Data Types (Examples: list, dict):\n",
    "# - Their values can be changed after creation.\n",
    "# - When you modify a mutable object, the object itself is changed directly.\n",
    "# - Example: In the case of a list, modifying an element directly changes the original list.\n",
    "# - Other mutable types include dictionaries (dict).\n",
    "\n"
   ]
  },
  {
   "cell_type": "code",
   "execution_count": 7,
   "id": "cb64ce21-d1a8-478c-bc06-9fe3ff1c8895",
   "metadata": {},
   "outputs": [
    {
     "data": {
      "text/plain": [
       "[0, 1, 1, 2, 3, 5, 8, 13, 21, 34]"
      ]
     },
     "execution_count": 7,
     "metadata": {},
     "output_type": "execute_result"
    }
   ],
   "source": [
    "# Define the function to generate the first 'n' Fibonacci numbers\n",
    "def fibonacci(n):\n",
    "    # Initialize the list with the first two Fibonacci numbers\n",
    "    fib_sequence = [0, 1]\n",
    "    \n",
    "    # Loop to generate the Fibonacci numbers until the length of the list is 'n'\n",
    "    for i in range(2, n):\n",
    "        # Add the sum of the last two numbers in the list\n",
    "        fib_sequence.append(fib_sequence[-1] + fib_sequence[-2])\n",
    "    \n",
    "    # Return the Fibonacci sequence up to 'n'\n",
    "    return fib_sequence[:n]\n",
    "\n",
    "# Test the function with the first 10 Fibonacci numbers\n",
    "fib_10 = fibonacci(10)\n",
    "fib_10\n"
   ]
  },
  {
   "cell_type": "code",
   "execution_count": 1,
   "id": "ada3ddfb-2a17-4677-82f9-d2636ac5445f",
   "metadata": {},
   "outputs": [
    {
     "name": "stdout",
     "output_type": "stream",
     "text": [
      "None\n"
     ]
    },
    {
     "ename": "AttributeError",
     "evalue": "'NoneType' object has no attribute 'remove'",
     "output_type": "error",
     "traceback": [
      "\u001b[1;31m---------------------------------------------------------------------------\u001b[0m",
      "\u001b[1;31mAttributeError\u001b[0m                            Traceback (most recent call last)",
      "Cell \u001b[1;32mIn[1], line 8\u001b[0m\n\u001b[0;32m      5\u001b[0m numbers \u001b[38;5;241m=\u001b[39m numbers\u001b[38;5;241m.\u001b[39minsert(\u001b[38;5;241m3\u001b[39m, \u001b[38;5;241m6\u001b[39m)\n\u001b[0;32m      6\u001b[0m \u001b[38;5;28mprint\u001b[39m(numbers)\n\u001b[1;32m----> 8\u001b[0m numbers \u001b[38;5;241m=\u001b[39m \u001b[43mnumbers\u001b[49m\u001b[38;5;241;43m.\u001b[39;49m\u001b[43mremove\u001b[49m(\u001b[38;5;241m7\u001b[39m)\n\u001b[0;32m      9\u001b[0m \u001b[38;5;28mprint\u001b[39m(numbers)\n\u001b[0;32m     11\u001b[0m \u001b[38;5;66;03m# Reverse the list\u001b[39;00m\n",
      "\u001b[1;31mAttributeError\u001b[0m: 'NoneType' object has no attribute 'remove'"
     ]
    }
   ],
   "source": [
    "# Original list\n",
    "numbers = [3, 5, 7, 9, 11, 13]\n",
    "\n",
    "# Insert 6 at the 3rd index\n",
    "numbers = numbers.insert(3, 6)\n",
    "print(numbers)\n",
    "\n",
    "numbers = numbers.remove(7)\n",
    "print(numbers)\n",
    "\n",
    "# Reverse the list\n",
    "numbers = numbers.reverse()\n",
    "print(numbers)\n",
    "\n",
    "# Calculate the mean of the list\n",
    "mean = sum(numbers) / len(numbers)\n",
    "print(mean)\n",
    "\n",
    "# Calculate the median of the list\n",
    "def calculate_median(numbers):\n",
    "    n = len(numbers)\n",
    "    if n % 2 == 1:\n",
    "        # If odd, return the middle element\n",
    "        return lst[n // 2]\n",
    "    else:\n",
    "        # If even, return the average of the two middle elements\n",
    "        mid1 = lst[n // 2 - 1]\n",
    "        mid2 = lst[n // 2]\n",
    "        return (mid1 + mid2) / 2\n",
    "\n",
    "median = median = calculate_median(numbers)\n",
    "print(median)\n"
   ]
  },
  {
   "cell_type": "code",
   "execution_count": null,
   "id": "60fbf392-e0a5-4b81-9966-cb908e0545af",
   "metadata": {},
   "outputs": [],
   "source": [
    "# Read a comma-separated list of numbers from the user\n",
    "numbers_input = input(\"Enter a list of numbers separated by commas (e.g., 10, 20, 30, 40): \")\n",
    "\n",
    "# Convert the input string into a list of integers\n",
    "numbers_list = [int(num.strip()) for num in numbers_input.split(\",\")]\n",
    "\n",
    "numbers_list\n",
    "# Calculate the mean of the numbers\n",
    "mean_value = sum(numbers_list) / len(numbers_list)\n",
    "\n",
    "# Find the smallest and largest numbers\n",
    "smallest_number = min(numbers_list)\n",
    "largest_number = max(numbers_list)\n",
    "\n",
    "mean_value, smallest_number, largest_number\n",
    "# Calculate the median of the numbers\n",
    "sorted_numbers = sorted(numbers_list)  # Sort the numbers list\n",
    "\n",
    "# Check if the number of elements is odd or even\n",
    "n = len(sorted_numbers)\n",
    "if n % 2 == 1:\n",
    "    median_value = sorted_numbers[n // 2]  # Odd length: middle element\n",
    "else:\n",
    "    median_value = (sorted_numbers[n // 2 - 1] + sorted_numbers[n // 2]) / 2  # Even length: average of middle elements\n",
    "\n",
    "print (median_value)\n",
    "\n",
    "\n"
   ]
  },
  {
   "cell_type": "code",
   "execution_count": 2,
   "id": "4666cadc-1f36-476f-85d9-7324569432c0",
   "metadata": {},
   "outputs": [
    {
     "name": "stdout",
     "output_type": "stream",
     "text": [
      "True\n"
     ]
    }
   ],
   "source": [
    "# Function to check if the string is a palindrome\n",
    "def is_palindrome(s):\n",
    "    # Removing spaces and converting the string to lowercase\n",
    "    s = s.replace(\" \", \"\").lower()\n",
    "    \n",
    "    # Checking if the string is equal to its reverse\n",
    "    return s == s[::-1]\n",
    "\n",
    "# Input string\n",
    "input_string = \"A man a plan a canal Panama\"\n",
    "\n",
    "# Checking if the input string is a palindrome\n",
    "result = is_palindrome(input_string)\n",
    "print(result)\n"
   ]
  },
  {
   "cell_type": "code",
   "execution_count": 3,
   "id": "fc8ed664-6698-4cc2-836d-0533ce71832f",
   "metadata": {},
   "outputs": [
    {
     "name": "stdout",
     "output_type": "stream",
     "text": [
      "84.83333333333333\n",
      "['Alice', 'Charlie', 'David', 'Fay']\n"
     ]
    }
   ],
   "source": [
    "# Create a dictionary with student names as keys and marks as values\n",
    "students_marks = {\n",
    "    \"Alice\": 85,\n",
    "    \"Bob\": 78,\n",
    "    \"Charlie\": 92,\n",
    "    \"David\": 88,\n",
    "    \"Eva\": 75,\n",
    "    \"Fay\": 91\n",
    "}\n",
    "\n",
    "# Compute the average marks\n",
    "average_marks = sum(students_marks.values()) / len(students_marks)\n",
    "\n",
    "# Print the average marks\n",
    "print(average_marks)\n",
    "#  Find and print the names of students who scored above the average\n",
    "above_average_students = [name for name, marks in students_marks.items() if marks > average_marks]\n",
    "\n",
    "# Print the list of students who scored above average\n",
    "print(above_average_students)\n"
   ]
  },
  {
   "cell_type": "code",
   "execution_count": 4,
   "id": "8cc71ae6-f0ab-4f17-b4d4-f39b04553967",
   "metadata": {},
   "outputs": [
    {
     "name": "stdout",
     "output_type": "stream",
     "text": [
      "[(1, 1), (2, 4), (3, 9), (4, 16), (5, 25), (6, 36), (7, 49), (8, 64), (9, 81), (10, 100)]\n"
     ]
    }
   ],
   "source": [
    "# Create a list of tuples where each tuple contains a number and its square\n",
    "numbers_and_squares = [(i, i**2) for i in range(1, 11)]\n",
    "\n",
    "# Display the result\n",
    "print(numbers_and_squares)\n"
   ]
  },
  {
   "cell_type": "code",
   "execution_count": 5,
   "id": "ea0b0c44-9e06-4636-88ee-5db4fed34f16",
   "metadata": {},
   "outputs": [
    {
     "name": "stdout",
     "output_type": "stream",
     "text": [
      "{'a': 10, 'b': 25, 'c': 15}\n"
     ]
    }
   ],
   "source": [
    "# Define the two dictionaries\n",
    "dict1 = {'a': 10, 'b': 20}\n",
    "dict2 = {'b': 5, 'c': 15}\n",
    "\n",
    "# Add dictionaries and sum values for common keys\n",
    "merged_dict = dict1.copy()  # Make a copy of dict1 to avoid modifying it\n",
    "for key, value in dict2.items():\n",
    "    \n",
    "    if key in merged_dict:\n",
    "        merged_dict[key] = merged_dict[key] + value  # Sum the values for common keys\n",
    "    else:\n",
    "        merged_dict[key] = value  # Add new key-value pair from dict2\n",
    "\n",
    "# Output the result\n",
    "print(merged_dict)\n"
   ]
  },
  {
   "cell_type": "code",
   "execution_count": 6,
   "id": "2946983f-9ff0-4593-9f93-e809fa1fadf6",
   "metadata": {},
   "outputs": [
    {
     "name": "stdout",
     "output_type": "stream",
     "text": [
      "{'h': 1, 'e': 1, 'l': 3, 'o': 2, ' ': 1, 'w': 1, 'r': 1, 'd': 1, '!': 1}\n"
     ]
    }
   ],
   "source": [
    "# Function to convert string to lowercase and count character frequency\n",
    "def count_character_frequency(input_string):\n",
    "    # Convert the string to lowercase to make the count case-insensitive\n",
    "    input_string = input_string.lower()\n",
    "    \n",
    "    # Initialize an empty dictionary to hold the frequency count\n",
    "    frequency_dict = {}\n",
    "    \n",
    "    # Loop through each character in the string\n",
    "    for char in input_string:\n",
    "        # If the character is already in the dictionary, increment its count\n",
    "        if char in frequency_dict:\n",
    "            frequency_dict[char] += 1\n",
    "        # Otherwise, add the character to the dictionary with a count of 1\n",
    "        else:\n",
    "            frequency_dict[char] = 1\n",
    "    \n",
    "    # Return the frequency dictionary\n",
    "    return frequency_dict\n",
    "\n",
    "# Test the function with an example string\n",
    "test_string = \"Hello World!\"\n",
    "output = count_character_frequency(test_string)\n",
    "print(output)\n"
   ]
  },
  {
   "cell_type": "code",
   "execution_count": 7,
   "id": "19fea5e7-8544-4330-8876-e0683a94dac7",
   "metadata": {},
   "outputs": [
    {
     "name": "stdout",
     "output_type": "stream",
     "text": [
      "4.5 4.5\n"
     ]
    }
   ],
   "source": [
    "# Function to remove duplicates while maintaining order\n",
    "def remove_duplicates(input_list):\n",
    "    unique_list = []\n",
    "    for item in input_list:\n",
    "        if item not in unique_list:\n",
    "            unique_list.append(item)\n",
    "    return unique_list\n",
    "\n",
    "# Test the function with a sample list\n",
    "sample_list = [1, 2, 3, 2, 4, 5, 1, 6, 7, 8, 6]\n",
    "unique_elements = remove_duplicates(sample_list)\n",
    "\n",
    "# Output the unique elements\n",
    "unique_elements\n",
    "# Function to calculate the mean\n",
    "def calculate_mean(numbers):\n",
    "    return sum(numbers) / len(numbers) if numbers else 0\n",
    "\n",
    "# Function to calculate the median\n",
    "def calculate_median(numbers):\n",
    "    numbers.sort()\n",
    "    n = len(numbers)\n",
    "    if n % 2 == 1:\n",
    "        return numbers[n // 2]\n",
    "    else:\n",
    "        return (numbers[n // 2 - 1] + numbers[n // 2]) / 2\n",
    "\n",
    "# Calculate the mean and median of the unique elements\n",
    "mean_value = calculate_mean(unique_elements)\n",
    "median_value = calculate_median(unique_elements)\n",
    "\n",
    "# Output the mean and median\n",
    "print(mean_value, median_value)\n"
   ]
  },
  {
   "cell_type": "code",
   "execution_count": 8,
   "id": "16971495-cb1b-4165-815e-0be421b380de",
   "metadata": {},
   "outputs": [
    {
     "name": "stdout",
     "output_type": "stream",
     "text": [
      "strawberry 3\n"
     ]
    }
   ],
   "source": [
    "# Function to find the longest string and count how many strings start with a vowel\n",
    "def analyze_strings(string_list):\n",
    "    vowels = \"AEIOUaeiou\"  # Vowel characters (both uppercase and lowercase)\n",
    "    longest_string = \"\"  # To store the longest string\n",
    "    vowel_count = 0  # To count how many strings start with a vowel\n",
    "    \n",
    "    # Loop through the list to perform the required operations\n",
    "    for string in string_list:\n",
    "        # Check if the current string is the longest\n",
    "        if len(string) > len(longest_string):\n",
    "            longest_string = string\n",
    "        \n",
    "        # Check if the string starts with a vowel\n",
    "        if string and string[0] in vowels:\n",
    "            vowel_count = vowel_count + 1\n",
    "    \n",
    "    return longest_string, vowel_count\n",
    "\n",
    "# Example input list of strings\n",
    "string_list = [\"apple\", \"banana\", \"orange\", \"umbrella\", \"strawberry\", \"kiwi\"]\n",
    "\n",
    "# Call the function and print the results\n",
    "longest, count_vowels = analyze_strings(string_list)\n",
    "print(longest, count_vowels)\n"
   ]
  },
  {
   "cell_type": "code",
   "execution_count": 9,
   "id": "27b2a10d-4614-4669-a6ac-a08f7a540d3f",
   "metadata": {},
   "outputs": [
    {
     "name": "stdout",
     "output_type": "stream",
     "text": [
      "[{'name': 'Bob', 'age': 22}, {'name': 'Alice', 'age': 25}]\n"
     ]
    }
   ],
   "source": [
    "# Function to sort a list of dictionaries by a given key using selection sort\n",
    "def sort_by_key_basic(data, key):\n",
    " \n",
    "    n = len(data)\n",
    "    \n",
    "    # Iterate over each dictionary in the list\n",
    "    for i in range(n):\n",
    "        # Find the dictionary with the smallest value for the given key\n",
    "        min_index = i\n",
    "        for j in range(i + 1, n):\n",
    "            # Compare the 'key' values between dictionaries\n",
    "            if data[j][key] < data[min_index][key]:\n",
    "                min_index = j\n",
    "        \n",
    "        # Swap the dictionaries if the smallest value is not already in place\n",
    "        if min_index != i:\n",
    "            temp = data[i]\n",
    "            data[i] = data[min_index]\n",
    "            data[min_index] = temp\n",
    "    \n",
    "    return data\n",
    "\n",
    "# Sample data\n",
    "data = [{'name': 'Alice', 'age': 25}, {'name': 'Bob', 'age': 22}]\n",
    "\n",
    "# Sort the data by 'age'\n",
    "sorted_data = sort_by_key_basic(data, 'age')\n",
    "print(sorted_data)\n"
   ]
  },
  {
   "cell_type": "code",
   "execution_count": 10,
   "id": "6fd61d4f-6146-48ae-8be4-1b5fbd26fc42",
   "metadata": {},
   "outputs": [
    {
     "name": "stdout",
     "output_type": "stream",
     "text": [
      "['sample', 'sentence', 'some', 'This', 'with', 'words']\n"
     ]
    }
   ],
   "source": [
    "# Define the string to split\n",
    "input_string = \"This is a sample sentence with some words\"\n",
    "\n",
    "# Split the string into a list of words\n",
    "words_list = input_string.split()\n",
    "\n",
    "# Remove words that are shorter than 4 characters\n",
    "filtered_words = [word for word in words_list if len(word) >= 4]\n",
    "\n",
    "# Implement Bubble Sort to sort the remaining words alphabetically\n",
    "n = len(filtered_words)\n",
    "for i in range(n):\n",
    "    for j in range(0, n-i-1):\n",
    "        if filtered_words[j].lower() > filtered_words[j+1].lower():\n",
    "            # Swap the words\n",
    "            filtered_words[j], filtered_words[j+1] = filtered_words[j+1], filtered_words[j]\n",
    "\n",
    "# Output the final sorted list of words\n",
    "print(filtered_words)\n",
    "\n"
   ]
  },
  {
   "cell_type": "code",
   "execution_count": 11,
   "id": "4db34bbc-6841-4742-b77b-85a8ab8fcc2d",
   "metadata": {},
   "outputs": [],
   "source": [
    "def get_char_count(word):\n",
    "    \"\"\"Helper function to get character frequency count.\"\"\"\n",
    "    char_count = {}\n",
    "    for char in word:\n",
    "        if char in char_count:\n",
    "            char_count[char] += 1\n",
    "        else:\n",
    "            char_count[char] = 1\n",
    "    return char_count\n",
    "\n",
    "def find_anagrams(word, words):\n",
    "    \"\"\"Find all anagrams of a given word in a list.\"\"\"\n",
    "    word_count = get_char_count(word)  # Character count of the original word\n",
    "    anagrams = []  # List to store anagram words\n",
    "\n",
    "    for w in words:\n",
    "        if get_char_count(w) == word_count:  # Compare character counts\n",
    "            anagrams.append(w)\n",
    "    \n",
    "    return anagrams\n"
   ]
  },
  {
   "cell_type": "code",
   "execution_count": 12,
   "id": "46016807-7624-4fe5-a72f-4d83cd4f86db",
   "metadata": {},
   "outputs": [
    {
     "name": "stdout",
     "output_type": "stream",
     "text": [
      "Intersection: [4, 5]\n",
      "Union: [1, 2, 3, 4, 5, 6, 7, 8]\n",
      "Symmetric Difference: [1, 2, 3, 6, 7, 8]\n"
     ]
    }
   ],
   "source": [
    "# Define two lists\n",
    "list1 = [1, 2, 3, 4, 5]\n",
    "list2 = [4, 5, 6, 7, 8]\n",
    "\n",
    "# Find Intersection: Elements present in both lists\n",
    "intersection = []\n",
    "for element in list1:\n",
    "    if element in list2:\n",
    "        intersection.append(element)\n",
    "\n",
    "# Find Union: All elements from both lists, no duplicates\n",
    "union = list1.copy()  # Start with all elements from list1\n",
    "for element in list2:\n",
    "    if element not in union:\n",
    "        union.append(element)\n",
    "\n",
    "# Find Symmetric Difference: Elements in one list but not the other\n",
    "symmetric_difference = []\n",
    "# Add elements from list1 that are not in list2\n",
    "for element in list1:\n",
    "    if element not in list2:\n",
    "        symmetric_difference.append(element)\n",
    "# Add elements from list2 that are not in list1\n",
    "for element in list2:\n",
    "    if element not in list1:\n",
    "        symmetric_difference.append(element)\n",
    "\n",
    "# Output the results\n",
    "print(f\"Intersection: {intersection}\")\n",
    "print(f\"Union: {union}\")\n",
    "print(f\"Symmetric Difference: {symmetric_difference}\")\n"
   ]
  },
  {
   "cell_type": "code",
   "execution_count": 13,
   "id": "d8007a87-ee6f-4760-8dfd-8ddeaad79f5f",
   "metadata": {},
   "outputs": [
    {
     "name": "stdout",
     "output_type": "stream",
     "text": [
      "Numbers have been written to the file.\n",
      "150\n"
     ]
    }
   ],
   "source": [
    "# Step 1: Create a list of numbers\n",
    "numbers = [10, 20, 30, 40, 50]\n",
    "\n",
    "# Step 2: Create a text file and write the numbers into it\n",
    "with open('numbers.txt', 'w') as file:\n",
    "    for number in numbers:\n",
    "        file.write(f\"{number}\\n\")  # Write each number on a new line\n",
    "\n",
    "print(\"Numbers have been written to the file.\")\n",
    "# Step 3: Read the numbers from the file\n",
    "with open('numbers.txt', 'r') as file:\n",
    "    numbers_from_file = file.readlines()\n",
    "\n",
    "# Convert the numbers to integers\n",
    "numbers_from_file = [int(num.strip()) for num in numbers_from_file]\n",
    "\n",
    "# Step 4: Compute the sum of the numbers\n",
    "total_sum = sum(numbers_from_file)\n",
    "\n",
    "# Output the result\n",
    "print(total_sum)\n"
   ]
  },
  {
   "cell_type": "code",
   "execution_count": null,
   "id": "92e75a09-5e5f-4e67-8689-67f771212287",
   "metadata": {},
   "outputs": [],
   "source": [
    "import string\n",
    "\n",
    "# Specify the file path\n",
    "file_path = 'your_file.txt'\n",
    "\n",
    "try:\n",
    "    # Open the file in read mode and read its content\n",
    "    with open(file_path, 'r') as file:\n",
    "        content = file.read()\n",
    "\n",
    "    # Convert the content to lowercase to avoid case sensitivity issues\n",
    "    content = content.lower()\n",
    "\n",
    "    # Remove punctuation from the text\n",
    "    translator = str.maketrans('', '', string.punctuation)\n",
    "    content = content.translate(translator)\n",
    "\n",
    "    # Split the content into words using whitespace as the delimiter\n",
    "    words = content.split()\n",
    "\n",
    "    # Count the number of words\n",
    "    num_words = len(words)\n",
    "\n",
    "    # Display the number of words in the file\n",
    "    print(f\"Number of words: {num_words}\")\n",
    "\n",
    "except FileNotFoundError:\n",
    "    print(f\"Error: The file '{file_path}' was not found.\")\n",
    "from collections import Counter\n",
    "\n",
    "try:\n",
    "    # Count the frequency of each word in the list\n",
    "    word_count = Counter(words)\n",
    "\n",
    "    # Find the most common word and its frequency\n",
    "    most_common_word, frequency = word_count.most_common(1)[0]\n",
    "\n",
    "    # Display the most frequent word and its frequency\n",
    "    print(f\"The most frequent word is '{most_common_word}' with a frequency of {frequency}.\")\n",
    "\n",
    "except NameError:\n",
    "    # If words list was not initialized due to file not being found\n",
    "    print(\"Error: Could not process the file because it was not found.\")"
   ]
  },
  {
   "cell_type": "code",
   "execution_count": 18,
   "id": "f72e9b17-0ca7-425d-95ca-4814e1766b56",
   "metadata": {},
   "outputs": [
    {
     "name": "stdout",
     "output_type": "stream",
     "text": [
      "Random numbers have been saved to 'random_numbers.txt'.\n",
      "The mean of the numbers is: 27.81\n"
     ]
    }
   ],
   "source": [
    "import random\n",
    "\n",
    "# Generate 100 random integers between 1 and 50\n",
    "random_numbers = [random.randint(1, 50) for _ in range(100)]\n",
    "\n",
    "# Save the numbers to a text file, one number per line\n",
    "with open('random_numbers.txt', 'w') as file:\n",
    "    for number in random_numbers:\n",
    "        file.write(f\"{number}\\n\")\n",
    "\n",
    "print(\"Random numbers have been saved to 'random_numbers.txt'.\")\n",
    "# Read the numbers from the file\n",
    "with open('random_numbers.txt', 'r') as file:\n",
    "    numbers_from_file = [int(line.strip()) for line in file.readlines()]\n",
    "\n",
    "# Compute the mean of the numbers\n",
    "mean = sum(numbers_from_file) / len(numbers_from_file)\n",
    "\n",
    "print(f\"The mean of the numbers is: {mean}\")"
   ]
  },
  {
   "cell_type": "code",
   "execution_count": 20,
   "id": "1f26a0f3-526e-41ae-ba19-3babc9a6439a",
   "metadata": {},
   "outputs": [
    {
     "name": "stdout",
     "output_type": "stream",
     "text": [
      "27.5\n",
      "27.5\n",
      "No mode (no repeated values)\n",
      "14.361406616345072\n"
     ]
    }
   ],
   "source": [
    "numbers = [5, 10, 15, 20, 25, 30, 35, 40, 45, 50]\n",
    "\n",
    "# 1. Calculate Mean\n",
    "mean = sum(numbers) / len(numbers)\n",
    "print(mean)\n",
    "# 2. Calculate Median\n",
    "numbers_sorted = sorted(numbers)\n",
    "n = len(numbers_sorted)\n",
    "\n",
    "# If the list has an odd number of elements, the median is the middle element\n",
    "if n % 2 != 0:\n",
    "    median = numbers_sorted[n // 2]\n",
    "else:\n",
    "    # If the list has an even number of elements, the median is the average of the two middle elements\n",
    "    median = (numbers_sorted[n // 2 - 1] + numbers_sorted[n // 2]) / 2\n",
    "print(median)\n",
    "# 3. Calculate Mode\n",
    "from collections import Counter\n",
    "\n",
    "counter = Counter(numbers)\n",
    "mode_data = counter.most_common()\n",
    "\n",
    "# If the most common count is more than 1, we have a mode\n",
    "if mode_data[0][1] > 1:\n",
    "    mode = mode_data[0][0]\n",
    "else:\n",
    "    mode = \"No mode (no repeated values)\"\n",
    "print(mode)\n",
    "# 4. Calculate Standard Deviation\n",
    "mean_diff_squared = [(x - mean) ** 2 for x in numbers]\n",
    "variance = sum(mean_diff_squared) / len(numbers)\n",
    "std_dev = variance ** 0.5\n",
    "print(std_dev)"
   ]
  },
  {
   "cell_type": "code",
   "execution_count": 21,
   "id": "aa4a6066-ca53-4136-b681-28e9368244f9",
   "metadata": {},
   "outputs": [
    {
     "data": {
      "text/plain": [
       "[0.0, 0.25, 0.5, 0.75, 1.0]"
      ]
     },
     "execution_count": 21,
     "metadata": {},
     "output_type": "execute_result"
    }
   ],
   "source": [
    "# Function to normalize a list of numbers to the range [0, 1]\n",
    "def normalize_to_range(lst):\n",
    "    # Check if the list is empty\n",
    "    if len(lst) == 0:\n",
    "        return []\n",
    "\n",
    "    # Find the minimum and maximum values in the list\n",
    "    min_value = min(lst)\n",
    "    max_value = max(lst)\n",
    "\n",
    "    # Handle the case where all values are the same\n",
    "    if min_value == max_value:\n",
    "        return [0] * len(lst)  # If all values are the same, the normalized value is 0 for each element\n",
    "\n",
    "    # Normalize each element in the list\n",
    "    normalized_list = [(x - min_value) / (max_value - min_value) for x in lst]\n",
    "\n",
    "    return normalized_list\n",
    "\n",
    "# Example list to normalize\n",
    "numbers = [3, 6, 9, 12, 15]\n",
    "\n",
    "# Normalize the list and print the result\n",
    "normalized_numbers = normalize_to_range(numbers)\n",
    "normalized_numbers"
   ]
  },
  {
   "cell_type": "code",
   "execution_count": null,
   "id": "1de5696e-52a6-4b62-aaef-50fa02eb24bd",
   "metadata": {},
   "outputs": [],
   "source": [
    "# Take input from the user\n",
    "number = int(input(\"Enter an integer: \"))\n",
    "\n",
    "# Check if the number is even or odd\n",
    "if number % 2 == 0:\n",
    "    print(f\"{number} is even.\")\n",
    "else:\n",
    "    print(f\"{number} is odd.\")"
   ]
  },
  {
   "cell_type": "code",
   "execution_count": null,
   "id": "a0c77470-50be-457e-b5e5-77491ba5b73a",
   "metadata": {},
   "outputs": [],
   "source": [
    "# Program to convert a numerical grade into a letter grade\n",
    "\n",
    "# Take input from the user\n",
    "grade = float(input(\"Enter your numerical grade (0-100): \"))\n",
    "\n",
    "# Determine the corresponding letter grade based on the numerical grade\n",
    "if 90 <= grade <= 100:\n",
    "    letter_grade = \"A\"\n",
    "elif 80 <= grade < 90:\n",
    "    letter_grade = \"B\"\n",
    "elif 70 <= grade < 80:\n",
    "    letter_grade = \"C\"\n",
    "elif 60 <= grade < 70:\n",
    "    letter_grade = \"D\"\n",
    "elif 0 <= grade < 60:\n",
    "    letter_grade = \"F\"\n",
    "else:\n",
    "    letter_grade = \"Invalid input! Grade must be between 0 and 100.\"\n",
    "\n",
    "# Output the result\n",
    "print(f\"The corresponding letter grade is: {letter_grade}\")"
   ]
  },
  {
   "cell_type": "code",
   "execution_count": null,
   "id": "f652693f-52c5-4735-aea6-0ce5e5e7c659",
   "metadata": {},
   "outputs": [],
   "source": [
    "# Function to check if a year is a leap year\n",
    "def is_leap_year(year):\n",
    "    # A leap year is divisible by 4, but not divisible by 100, unless it's divisible by 400\n",
    "    if (year % 4 == 0 and year % 100 != 0) or (year % 400 == 0):\n",
    "        return True\n",
    "    else:\n",
    "        return False\n",
    "\n",
    "# Taking input from the user\n",
    "year = int(input(\"Enter a year: \"))\n",
    "\n",
    "# Check and output the result\n",
    "if is_leap_year(year):\n",
    "    print(f\"{year} is a leap year.\")\n",
    "else:\n",
    "    print(f\"{year} is not a leap year.\")"
   ]
  }
 ],
 "metadata": {
  "kernelspec": {
   "display_name": "Python 3 (ipykernel)",
   "language": "python",
   "name": "python3"
  },
  "language_info": {
   "codemirror_mode": {
    "name": "ipython",
    "version": 3
   },
   "file_extension": ".py",
   "mimetype": "text/x-python",
   "name": "python",
   "nbconvert_exporter": "python",
   "pygments_lexer": "ipython3",
   "version": "3.12.5"
  }
 },
 "nbformat": 4,
 "nbformat_minor": 5
}
